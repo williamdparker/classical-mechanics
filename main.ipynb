{
 "cells": [
  {
   "cell_type": "markdown",
   "metadata": {},
   "source": [
    "# Free Fall\n",
    "## Newtonian Approach - Forces\n",
    "\n",
    "When an object is in free fall, the only significant force acting on it is its weight:\n",
    "\n",
    "$\\sum_i \\vec{F}_i = -mg\\hat{z}$\n",
    "\n",
    "### Law of Motion\n",
    "$\\sum_i \\vec{F}_i = m \\ddot{\\vec{r}}$\n",
    "\n",
    "$\\Rightarrow -mg\\hat{z} = m\\left(\\ddot{x}\\hat{x} + \\ddot{y}\\hat{y} + \\ddot{z}\\hat{z} \\right)$\n",
    "\n",
    "$\\Rightarrow \\vec{r} = \\left( \\dot{x}_0 t + x_0 \\right) \\hat{x}$\n",
    "$ + \\left( \\dot{y}_0 t + y_0 \\right) \\hat{y}$\n",
    "$ + \\left( -\\frac{1}{2}g t^2 + \\dot{z}_0 t + z_0 \\right) \\hat{z}$"
   ]
  },
  {
   "cell_type": "markdown",
   "metadata": {},
   "source": [
    "### Example : Drop from a Height\n",
    "$\\dot{\\vec{r}}_0 = \\vec{0}$\n",
    "\n",
    "$\\vec{r}_0 = h\\hat{z}$\n",
    "\n",
    "$\\Rightarrow \\vec{r} = \\left( -\\frac{1}{2} g t^2 + h \\right) \\hat{z}$"
   ]
  },
  {
   "cell_type": "markdown",
   "metadata": {},
   "source": [
    "### Example : Horizontal Launch from a Cliff\n",
    "$\\dot{\\vec{r}}_0 = v_0\\hat{x}$\n",
    "\n",
    "$\\vec{r}_0 = h\\hat{z}$\n",
    "\n",
    "$\\Rightarrow \\vec{r} = v_0 t \\, \\hat{x}$\n",
    "$+ \\left( -\\frac{1}{2} g t^2 + h \\right) \\hat{z}$"
   ]
  },
  {
   "cell_type": "markdown",
   "metadata": {},
   "source": [
    "### Example : Angled Launch on a Flat\n",
    "$\\dot{\\vec{r}}_0 = v_0 \\left(\\cos \\theta \\hat{x} + \\sin \\theta \\hat{z}\\right)$\n",
    "\n",
    "$\\vec{r}_0 = \\vec{0}$\n",
    "\n",
    "$\\Rightarrow \\vec{r} = v_0 \\cos \\theta\\, t \\, \\hat{x}$\n",
    "$+ \\left( -\\frac{1}{2} g t^2 + v_0 \\sin \\theta\\,  t + h \\right) \\hat{z}$"
   ]
  }
 ],
 "metadata": {
  "kernelspec": {
   "display_name": "Python 3",
   "language": "python",
   "name": "python3"
  },
  "language_info": {
   "codemirror_mode": {
    "name": "ipython",
    "version": 3
   },
   "file_extension": ".py",
   "mimetype": "text/x-python",
   "name": "python",
   "nbconvert_exporter": "python",
   "pygments_lexer": "ipython3",
   "version": "3.6.6+"
  }
 },
 "nbformat": 4,
 "nbformat_minor": 2
}
