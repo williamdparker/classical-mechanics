{
 "cells": [
  {
   "cell_type": "markdown",
   "source": "# Free Fall\n## Newtonian Approach - Forces\n\nWhen an object is in free fall, the only significant force acting on it is its weight:\n\n$\\sum_i \\vec{F}_i = -mg\\hat{z}$\n\n### Law of Motion\n$\\sum_i \\vec{F}_i = m \\ddot{\\vec{r}}$\n\n$\\Rightarrow -mg\\hat{z} = m\\left(\\ddot{x}\\hat{x} + \\ddot{y}\\hat{y} + \\ddot{z}\\hat{z} \\right)$\n\n$\\Rightarrow \\vec{r} = \\left( \\dot{x}_0 t + x_0 \\right) \\hat{x} + \\left( \\dot{y}_0 t + y_0 \\right) \\hat{y} + \\left( -\\frac{1}{2}g t^2 + \\dot{z}_0 t + z_0 \\right) \\hat{z}$",
   "metadata": {
    "cell_id": "79a7764b-a051-45c2-a82f-7d96e46aea5b",
    "deepnote_cell_type": "markdown",
    "deepnote_cell_height": 368
   }
  },
  {
   "cell_type": "markdown",
   "source": "### Example : Drop from a Height\n$\\dot{\\vec{r}}_0 = \\vec{0}$\n\n$\\vec{r}_0 = h\\hat{z}$\n\n$\\Rightarrow \\vec{r} = \\left( -\\frac{1}{2} g t^2 + h \\right) \\hat{z}$",
   "metadata": {
    "cell_id": "00001-2ce8bb61-2403-4cd9-9745-473cdb23104e",
    "deepnote_cell_type": "markdown",
    "deepnote_cell_height": 173
   }
  },
  {
   "cell_type": "markdown",
   "source": "### Example : Horizontal Launch from a Cliff\n$\\dot{\\vec{r}}_0 = v_0\\hat{x}$\n\n$\\vec{r}_0 = h\\hat{z}$\n\n$\\Rightarrow \\vec{r} = v_0 t \\, \\hat{x}$\n$+ \\left( -\\frac{1}{2} g t^2 + h \\right) \\hat{z}$",
   "metadata": {
    "cell_id": "00002-1db5bd4d-6c64-4af7-b138-57361086b593",
    "deepnote_cell_type": "markdown",
    "deepnote_cell_height": 195
   }
  },
  {
   "cell_type": "markdown",
   "source": "### Example : Angled Launch on a Flat\n$\\dot{\\vec{r}}_0 = v_0 \\left(\\cos \\theta \\hat{x} + \\sin \\theta \\hat{z}\\right)$\n\n$\\vec{r}_0 = \\vec{0}$\n\n$\\Rightarrow \\vec{r} = v_0 \\cos \\theta\\, t \\, \\hat{x} + \\left( -\\frac{1}{2} g t^2 + v_0 \\sin \\theta\\,  t\\right) \\hat{z}$",
   "metadata": {
    "cell_id": "00003-23797681-e2ed-42ee-a34a-80e8ccc8756f",
    "deepnote_cell_type": "markdown",
    "deepnote_cell_height": 327
   }
  },
  {
   "cell_type": "markdown",
   "source": "<a style='text-decoration:none;line-height:16px;display:flex;color:#5B5B62;padding:10px;justify-content:end;' href='https://deepnote.com?utm_source=created-in-deepnote-cell&projectId=8e549538-64ff-4a7f-b38b-f0c261402249' target=\"_blank\">\n<img alt='Created in deepnote.com' style='display:inline;max-height:16px;margin:0px;margin-right:7.5px;' src='data:image/svg+xml;base64,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' > </img>\nCreated in <span style='font-weight:600;margin-left:4px;'>Deepnote</span></a>",
   "metadata": {
    "tags": [],
    "created_in_deepnote_cell": true,
    "deepnote_cell_type": "markdown"
   }
  }
 ],
 "nbformat": 4,
 "nbformat_minor": 2,
 "metadata": {
  "kernelspec": {
   "display_name": "Python 3",
   "language": "python",
   "name": "python3"
  },
  "language_info": {
   "codemirror_mode": {
    "name": "ipython",
    "version": 3
   },
   "file_extension": ".py",
   "mimetype": "text/x-python",
   "name": "python",
   "nbconvert_exporter": "python",
   "pygments_lexer": "ipython3",
   "version": "3.6.6+"
  },
  "deepnote_notebook_id": "5b7ca5fe-9a81-4cee-858c-24c9472a1e91",
  "deepnote": {},
  "deepnote_execution_queue": []
 }
}