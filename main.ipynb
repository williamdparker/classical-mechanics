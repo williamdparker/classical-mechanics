{
 "cells": [
  {
   "cell_type": "markdown",
   "metadata": {},
   "source": [
    "# Free Fall\n",
    "## Newtonian Approach - Forces\n",
    "\n",
    "When an object is in free fall, the only significant force acting on it is its weight.\n",
    "\n",
    "$\\sum_i \\vec{F}_i = -mg\\hat{z}$\n",
    "\n",
    "### Law of motion\n",
    "$\\sum_i \\vec{F}_i = m \\ddot{\\vec{r}}$\n",
    "\n",
    "$\\Rightarrow -mg\\hat{z} = m\\left(\\ddot{x}\\hat{x} + \\ddot{y}\\hat{y} + \\ddot{z}\\hat{z} \\right)$"
   ]
  }
 ],
 "metadata": {
  "kernelspec": {
   "display_name": "Python 3",
   "language": "python",
   "name": "python3"
  },
  "language_info": {
   "codemirror_mode": {
    "name": "ipython",
    "version": 3
   },
   "file_extension": ".py",
   "mimetype": "text/x-python",
   "name": "python",
   "nbconvert_exporter": "python",
   "pygments_lexer": "ipython3",
   "version": "3.6.6+"
  }
 },
 "nbformat": 4,
 "nbformat_minor": 2
}
